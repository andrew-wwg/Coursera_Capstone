{
 "cells": [
  {
   "cell_type": "markdown",
   "metadata": {},
   "source": [
    "# Analysis of Valencian Municipalities for a new Bar\n",
    "### For IBM Data Science Capstone Project, 7th April 2021\n",
    "\n",
    "This document will contain an introduction to the problem, a  breakdown of the data required and links to relevant data."
   ]
  },
  {
   "cell_type": "markdown",
   "metadata": {},
   "source": [
    "# The problem\n",
    "\n",
    "The results of this project will be relevant for people moving to the city in search of accomodation, buisiness opportunities and places to visit. The project is specifically intended to help a prospective bar owner make an informed decision on the location of their new bar.\n",
    "\n",
    "Valencia is a growing city in Spain. It has a unique value proposition for Spaniards and tourists alike. Beautiful beaches, a comparitively young demographic, popular traditional cuisine and a myriad of museums and historical sites it has the potential to become a major European city. Valencia does suffer from lack of investment from new projects however as Barcelona draws many tourists and business owners away. That being so, Valencia's weaker economy is an opportunity for businesses to start up with lower costs and get on at the first floor of a promising future of economic growth.\n",
    "\n",
    "A bar owner is interested in opening a new bar in the city of Valencia, Spain. They want to open their bar in a region of the city where the average inhabitant's salary is high, but where there are not currently many bars and therefore limited competition.\n",
    "\n",
    "# Data Collection\n",
    "\n",
    "### Non FourSquare data\n",
    "Data will be extracted from the Spanish Tax website which includes information about median salaries of inhabitants across postcodes in Spain. This dataset will be filtered so that we can focus on the postcode in the city of Valencia. This will be done by inspecting the HTML, saving as a text file, opening as an XLS and converting to a CSV file. Alternatively, BeautifulSoup may be used to scrape the data from the tax website. After data analysis, the top 5 discticts of Valencia will be investigated further using FourSquare data.\n",
    "\n",
    "Using an open source dataset of coordinates for Valencian postcodes, a map will be generated to clearly mark the top 5 districts.\n",
    "\n",
    "### FourSquare Data\n",
    "Foursquare location data will be used to explore the coordinates (longitude and latitude) of bars in these 5 municipalities. Using a map visualization, a suitable location for a future bar, far from competition can be determined."
   ]
  },
  {
   "cell_type": "markdown",
   "metadata": {},
   "source": [
    "## Sources of data:\n",
    "\n",
    "1. Information on median salaries can be extracted from the Spanish Government's Taxation website: https://www.agenciatributaria.es/AEAT/Contenidos_Comunes/La_Agencia_Tributaria/Estadisticas/Publicaciones/sites/irpfCodPostal/2018/jrubikf241580c2986609e03ee3216d79d3f457701c254e.html\n",
    "\n",
    "2. Information about the municipalties such as their longitude and latitude can be found using this freely available dataset:\n",
    "https://www.back4app.com/database/back4app/spain-zip-code-list"
   ]
  },
  {
   "cell_type": "code",
   "execution_count": null,
   "metadata": {},
   "outputs": [],
   "source": []
  }
 ],
 "metadata": {
  "kernelspec": {
   "display_name": "Python 3",
   "language": "python",
   "name": "python3"
  },
  "language_info": {
   "codemirror_mode": {
    "name": "ipython",
    "version": 3
   },
   "file_extension": ".py",
   "mimetype": "text/x-python",
   "name": "python",
   "nbconvert_exporter": "python",
   "pygments_lexer": "ipython3",
   "version": "3.8.5"
  }
 },
 "nbformat": 4,
 "nbformat_minor": 4
}
